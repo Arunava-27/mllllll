{
  "nbformat": 4,
  "nbformat_minor": 0,
  "metadata": {
    "colab": {
      "provenance": []
    },
    "kernelspec": {
      "name": "python3",
      "display_name": "Python 3"
    },
    "language_info": {
      "name": "python"
    }
  },
  "cells": [
    {
      "cell_type": "code",
      "source": [
        "import numpy as np\n",
        "\n",
        "def relu(x):\n",
        "    return np.maximum(0, x)\n",
        "\n",
        "# Define the neural network architecture\n",
        "input_size = 2\n",
        "hidden_size = 4\n",
        "output_size = 1\n",
        "\n",
        "# Initialize the weights with random values\n",
        "W1 = np.random.randn(input_size, hidden_size)\n",
        "W2 = np.random.randn(hidden_size, output_size)\n",
        "\n",
        "# Define the forward pass function\n",
        "def forward(x):\n",
        "    h = relu(np.dot(x, W1))\n",
        "    y = relu(np.dot(h, W2))\n",
        "    return y, h\n",
        "\n",
        "# Define the training data\n",
        "X = np.array([[0, 0], [0, 1], [1, 0], [1, 1]])\n",
        "y = np.array([[0], [0], [1], [0]])\n",
        "\n",
        "# Train the neural network using backpropagation\n",
        "lr = 0.1\n",
        "for epoch in range(10000):\n",
        "    # Forward pass\n",
        "    y_pred, hidden = forward(X)\n",
        "\n",
        "    # Compute the loss\n",
        "    error = y - y_pred\n",
        "    loss = np.mean(np.square(error))\n",
        "\n",
        "    # Backward pass\n",
        "    dW2 = np.dot(hidden.T, error * (y_pred > 0))\n",
        "    dhidden = np.dot(error * (y_pred > 0), W2.T)\n",
        "    dW1 = np.dot(X.T, dhidden * (hidden > 0))\n",
        "\n",
        "    # Update the weights\n",
        "    W2 += lr * dW2\n",
        "    W1 += lr * dW1\n",
        "\n",
        "# Test the neural network on new data\n",
        "X_test = np.array([[0, 1], [0.8, 0.9]])\n",
        "y_test, _ = forward(X_test)\n",
        "print(y_test)\n"
      ],
      "metadata": {
        "id": "_ANw0IEg4UFm",
        "colab": {
          "base_uri": "https://localhost:8080/"
        },
        "outputId": "67d55887-2961-4078-a69b-b3a773e9ac54"
      },
      "execution_count": 5,
      "outputs": [
        {
          "output_type": "stream",
          "name": "stdout",
          "text": [
            "[[1.e-323]\n",
            " [0.e+000]]\n"
          ]
        }
      ]
    },
    {
      "cell_type": "code",
      "source": [],
      "metadata": {
        "id": "Xzp6VTOI6A0W"
      },
      "execution_count": null,
      "outputs": []
    }
  ]
}